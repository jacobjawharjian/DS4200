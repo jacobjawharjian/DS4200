{
 "cells": [
  {
   "cell_type": "code",
   "execution_count": 2,
   "id": "347a90b4",
   "metadata": {},
   "outputs": [],
   "source": [
    "import altair as alt\n",
    "import pandas as pd"
   ]
  },
  {
   "cell_type": "code",
   "execution_count": 5,
   "id": "8cd0e3f2",
   "metadata": {},
   "outputs": [],
   "source": [
    "source = pd.DataFrame({\n",
    "    'Year': ['2022', '2023', '2024', '2025', '2026', '2027', '2028', '2029', '2030', '2031', '2032'],\n",
    "    'Market Size in Billions': [2.09, 2.44, 2.85, 3.33, 3.89, 4.55, 5.31, 6.20, 7.25, 8.47, 9.89]\n",
    "})"
   ]
  },
  {
   "cell_type": "code",
   "execution_count": 27,
   "id": "1854f95d",
   "metadata": {},
   "outputs": [
    {
     "data": {
      "text/html": [
       "\n",
       "<style>\n",
       "  #altair-viz-363cedc0c57e449e9f40eb32a50d0f62.vega-embed {\n",
       "    width: 100%;\n",
       "    display: flex;\n",
       "  }\n",
       "\n",
       "  #altair-viz-363cedc0c57e449e9f40eb32a50d0f62.vega-embed details,\n",
       "  #altair-viz-363cedc0c57e449e9f40eb32a50d0f62.vega-embed details summary {\n",
       "    position: relative;\n",
       "  }\n",
       "</style>\n",
       "<div id=\"altair-viz-363cedc0c57e449e9f40eb32a50d0f62\"></div>\n",
       "<script type=\"text/javascript\">\n",
       "  var VEGA_DEBUG = (typeof VEGA_DEBUG == \"undefined\") ? {} : VEGA_DEBUG;\n",
       "  (function(spec, embedOpt){\n",
       "    let outputDiv = document.currentScript.previousElementSibling;\n",
       "    if (outputDiv.id !== \"altair-viz-363cedc0c57e449e9f40eb32a50d0f62\") {\n",
       "      outputDiv = document.getElementById(\"altair-viz-363cedc0c57e449e9f40eb32a50d0f62\");\n",
       "    }\n",
       "    const paths = {\n",
       "      \"vega\": \"https://cdn.jsdelivr.net/npm/vega@5?noext\",\n",
       "      \"vega-lib\": \"https://cdn.jsdelivr.net/npm/vega-lib?noext\",\n",
       "      \"vega-lite\": \"https://cdn.jsdelivr.net/npm/vega-lite@5.17.0?noext\",\n",
       "      \"vega-embed\": \"https://cdn.jsdelivr.net/npm/vega-embed@6?noext\",\n",
       "    };\n",
       "\n",
       "    function maybeLoadScript(lib, version) {\n",
       "      var key = `${lib.replace(\"-\", \"\")}_version`;\n",
       "      return (VEGA_DEBUG[key] == version) ?\n",
       "        Promise.resolve(paths[lib]) :\n",
       "        new Promise(function(resolve, reject) {\n",
       "          var s = document.createElement('script');\n",
       "          document.getElementsByTagName(\"head\")[0].appendChild(s);\n",
       "          s.async = true;\n",
       "          s.onload = () => {\n",
       "            VEGA_DEBUG[key] = version;\n",
       "            return resolve(paths[lib]);\n",
       "          };\n",
       "          s.onerror = () => reject(`Error loading script: ${paths[lib]}`);\n",
       "          s.src = paths[lib];\n",
       "        });\n",
       "    }\n",
       "\n",
       "    function showError(err) {\n",
       "      outputDiv.innerHTML = `<div class=\"error\" style=\"color:red;\">${err}</div>`;\n",
       "      throw err;\n",
       "    }\n",
       "\n",
       "    function displayChart(vegaEmbed) {\n",
       "      vegaEmbed(outputDiv, spec, embedOpt)\n",
       "        .catch(err => showError(`Javascript Error: ${err.message}<br>This usually means there's a typo in your chart specification. See the javascript console for the full traceback.`));\n",
       "    }\n",
       "\n",
       "    if(typeof define === \"function\" && define.amd) {\n",
       "      requirejs.config({paths});\n",
       "      require([\"vega-embed\"], displayChart, err => showError(`Error loading script: ${err.message}`));\n",
       "    } else {\n",
       "      maybeLoadScript(\"vega\", \"5\")\n",
       "        .then(() => maybeLoadScript(\"vega-lite\", \"5.17.0\"))\n",
       "        .then(() => maybeLoadScript(\"vega-embed\", \"6\"))\n",
       "        .catch(showError)\n",
       "        .then(() => displayChart(vegaEmbed));\n",
       "    }\n",
       "  })({\"config\": {\"view\": {\"continuousWidth\": 300, \"continuousHeight\": 300}}, \"layer\": [{\"mark\": {\"type\": \"bar\"}, \"encoding\": {\"x\": {\"field\": \"Year\", \"type\": \"nominal\"}, \"y\": {\"field\": \"Market Size in Billions\", \"type\": \"quantitative\"}}, \"title\": \"Projected AI Training Dataset Market Size, 2022 to 2032 (USD Billion)\"}, {\"mark\": {\"type\": \"text\", \"baseline\": \"middle\", \"dy\": -5}, \"encoding\": {\"text\": {\"field\": \"Market Size in Billions\", \"type\": \"quantitative\"}, \"x\": {\"field\": \"Year\", \"type\": \"nominal\"}, \"y\": {\"field\": \"Market Size in Billions\", \"type\": \"quantitative\"}}, \"title\": \"Projected AI Training Dataset Market Size, 2022 to 2032 (USD Billion)\"}], \"data\": {\"name\": \"data-09cec0273545e659172b5da4f59d38bc\"}, \"height\": 300, \"$schema\": \"https://vega.github.io/schema/vega-lite/v5.17.0.json\", \"datasets\": {\"data-09cec0273545e659172b5da4f59d38bc\": [{\"Year\": \"2022\", \"Market Size in Billions\": 2.09}, {\"Year\": \"2023\", \"Market Size in Billions\": 2.44}, {\"Year\": \"2024\", \"Market Size in Billions\": 2.85}, {\"Year\": \"2025\", \"Market Size in Billions\": 3.33}, {\"Year\": \"2026\", \"Market Size in Billions\": 3.89}, {\"Year\": \"2027\", \"Market Size in Billions\": 4.55}, {\"Year\": \"2028\", \"Market Size in Billions\": 5.31}, {\"Year\": \"2029\", \"Market Size in Billions\": 6.2}, {\"Year\": \"2030\", \"Market Size in Billions\": 7.25}, {\"Year\": \"2031\", \"Market Size in Billions\": 8.47}, {\"Year\": \"2032\", \"Market Size in Billions\": 9.89}]}}, {\"mode\": \"vega-lite\"});\n",
       "</script>"
      ],
      "text/plain": [
       "alt.LayerChart(...)"
      ]
     },
     "execution_count": 27,
     "metadata": {},
     "output_type": "execute_result"
    }
   ],
   "source": [
    "bars = alt.Chart(source, title='Projected AI Training Dataset Market Size, 2022 to 2032 (USD Billion)').mark_bar().encode(\n",
    "    x='Year',\n",
    "    y='Market Size in Billions'\n",
    ")\n",
    "\n",
    "text = bars.mark_text(\n",
    "    baseline='middle', \n",
    "    dy=-5\n",
    ").encode(\n",
    "    text='Market Size in Billions:Q'\n",
    ")\n",
    "\n",
    "(bars + text).properties(height=300)"
   ]
  },
  {
   "cell_type": "code",
   "execution_count": null,
   "id": "f1e7613a",
   "metadata": {},
   "outputs": [],
   "source": []
  }
 ],
 "metadata": {
  "kernelspec": {
   "display_name": "Python 3 (ipykernel)",
   "language": "python",
   "name": "python3"
  },
  "language_info": {
   "codemirror_mode": {
    "name": "ipython",
    "version": 3
   },
   "file_extension": ".py",
   "mimetype": "text/x-python",
   "name": "python",
   "nbconvert_exporter": "python",
   "pygments_lexer": "ipython3",
   "version": "3.9.18"
  }
 },
 "nbformat": 4,
 "nbformat_minor": 5
}
