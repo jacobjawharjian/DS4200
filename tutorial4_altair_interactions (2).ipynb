{
 "cells": [
  {
   "cell_type": "markdown",
   "id": "c964913b-c1ef-457e-a01f-008aae6a1b5e",
   "metadata": {},
   "source": [
    "## Altair Tutorial: Interactions"
   ]
  },
  {
   "cell_type": "markdown",
   "id": "310667e4-0c03-4f7b-a617-12a2fa8d3296",
   "metadata": {},
   "source": [
    "Make sure altair and pandas are installed :) "
   ]
  },
  {
   "cell_type": "code",
   "execution_count": 1,
   "id": "a4380e92-bc79-4e98-b3f8-f0f39dda4555",
   "metadata": {
    "tags": []
   },
   "outputs": [],
   "source": [
    "import altair as alt\n",
    "import pandas as pd"
   ]
  },
  {
   "cell_type": "markdown",
   "id": "ca71d09f-a730-4ea4-b3c7-e4dc43021d91",
   "metadata": {},
   "source": [
    "We will be using the same [Spotify dataset](https://www.kaggle.com/code/harshapalnitkar/eda-on-spotify-top-hits-from-2000-2019) from the previous class, containing the top 2000 songs in spotify released from 2000-2019. It can be found on Canvas as `songs.csv`"
   ]
  },
  {
   "cell_type": "code",
   "execution_count": 2,
   "id": "2eb1d294-6d28-4f2e-a977-a51329101092",
   "metadata": {
    "tags": []
   },
   "outputs": [],
   "source": [
    "\n",
    "# Let's convert milliseconds to minutes\n",
    "\n",
    "# We will filter the dataframe for songs released in 2010\n"
   ]
  },
  {
   "cell_type": "markdown",
   "id": "0fbac18a-5191-4060-8a94-d55fcda1557a",
   "metadata": {},
   "source": [
    "Let's explore some of these metrics a little bit, first we should learn about what they mean. Let's look at danceable songs!"
   ]
  },
  {
   "cell_type": "markdown",
   "id": "aa8192ed-9dfa-41d0-a140-f342f3d410bb",
   "metadata": {
    "tags": []
   },
   "source": [
    "### [Spotify Track Features](https://developer.spotify.com/documentation/web-api/reference/get-audio-features)\n",
    "\n",
    "+ **danceability** *(float)*: Danceability describes how suitable a track is for dancing based on a combination of musical elements including tempo, rhythm stability, beat strength, and overall regularity. A value of 0.0 is least danceable and 1.0 is most danceable.\n",
    "\n",
    "+ **valence** *(float)*: A measure from 0.0 to 1.0 describing the musical positiveness conveyed by a track. Tracks with high valence sound more positive (e.g. happy, cheerful, euphoric), while tracks with low valence sound more negative (e.g. sad, depressed, angry).\n",
    "\n",
    "+ **mode** *(bool)*: Mode indicates the modality (major or minor) of a track, the type of scale from which its melodic content is derived. Major is represented by 1 and minor is 0."
   ]
  },
  {
   "cell_type": "markdown",
   "id": "50f13bd7-adf2-4c06-b5fa-93ce3a9b8795",
   "metadata": {},
   "source": [
    "## Concatenating and multiple views"
   ]
  },
  {
   "cell_type": "markdown",
   "id": "ba7ab03f-3b52-4257-b265-50bcde66f721",
   "metadata": {},
   "source": [
    "Interactivity works best when we can look at multiple visualizations at the same time. Before starting with interactions per se, let's look at how to do multiple charts in the same visualization. "
   ]
  },
  {
   "cell_type": "code",
   "execution_count": 3,
   "id": "0419ea9b-75b5-4626-9f42-00660e02f7b3",
   "metadata": {
    "tags": []
   },
   "outputs": [],
   "source": [
    "# Let's make a line char and a bar chart\n"
   ]
  },
  {
   "cell_type": "code",
   "execution_count": 4,
   "id": "ebab1024-3910-48b3-b540-c892c464ecdc",
   "metadata": {
    "tags": []
   },
   "outputs": [],
   "source": [
    "# The \"|\" concatenates horizontally\n"
   ]
  },
  {
   "cell_type": "code",
   "execution_count": 5,
   "id": "4cb662c6-f224-4d5f-aad3-2d95cac283bb",
   "metadata": {
    "tags": []
   },
   "outputs": [],
   "source": [
    "# The \"&\" concatenates vertically\n"
   ]
  },
  {
   "cell_type": "markdown",
   "id": "8f5d489a-c6e0-4746-b90c-300522723fab",
   "metadata": {},
   "source": [
    "Extra: For those interested there are more shorthand operators like `+` which can be used to layer plots on top of each other. Also feel free to look at `repeat()` to automate the concatenation process for many charts!"
   ]
  },
  {
   "cell_type": "markdown",
   "id": "0b91c880-f533-4c21-a53f-b4b716910c5d",
   "metadata": {},
   "source": [
    "## Picking up from last time: Simple Interactions with tooltip"
   ]
  },
  {
   "cell_type": "markdown",
   "id": "2a08e17c-d95a-49a2-a7ac-6f5051a9d498",
   "metadata": {},
   "source": [
    "Last tutorial we saw a brief example of how to use tooltip. Let's revist that. \n",
    "\n",
    "We can add a simple tooltip to any visual element by adding another line to the `encode()` function, specifying a data attribute to encode with the tag `tooltip`. For example, let's make it so that the lineplot shows the number of songs aggregated that year. \n"
   ]
  },
  {
   "cell_type": "code",
   "execution_count": null,
   "id": "3b6fb6a8-e82f-4387-941b-cd1eec72d9df",
   "metadata": {
    "tags": []
   },
   "outputs": [],
   "source": []
  },
  {
   "cell_type": "markdown",
   "id": "f172378a-fb82-4f64-b420-e15300320e44",
   "metadata": {},
   "source": [
    "This helped us learn that 2020 only has 3 songs, compared to the 80-something other songs have, so maybe we should remove it for this visualization or at least be skeptical of the conclusions we may draw. "
   ]
  },
  {
   "cell_type": "code",
   "execution_count": null,
   "id": "5315f6dc-8bcf-43fa-93f8-c17891dded6e",
   "metadata": {
    "tags": []
   },
   "outputs": [],
   "source": []
  },
  {
   "cell_type": "markdown",
   "id": "047bfa7a-f809-4148-a6ab-35bef44872e0",
   "metadata": {},
   "source": [
    "## Getting to more complex interactions: Selections\n",
    "\n",
    "The Altair documentation page for [Interactivity and Selections](https://altair-viz.github.io/altair-tutorial/notebooks/06-Selections.html) should be your first resource when you are trying to implement interactions, particularly more complex interactions that the first two \"easy\" interaction types we just covered. \n",
    "\n",
    "### Selection Point\n",
    "We will start with the simplest case. We define a variable for our selection operator, which we will call `brush`. \n",
    "\n",
    "After we define the `brush` variable, we need to use the `add_params()` function to officially bind it to the scatterplot we are making. But we aren't done quite yet -- we have the conditional variable of the selection set to be tracking whether something is selected, but we haven't yet told Altair what we want to do based on the value of that conditional. \n",
    "\n",
    "Let's set it so that any visual element that is not currently selected will appear grayed out. This will help to visually isolate the selected element. We can do that by editing the `color` encoding to include a conditional that will check the value of the selection we defined earlier (`brush`) before setting the final color of the element.\n",
    "\n",
    "I *suspect* `mode` will be associated with `valence`, the key (minor, major) will influence how happy the song is, let's explore that."
   ]
  },
  {
   "cell_type": "code",
   "execution_count": 10,
   "id": "56a5546d-e567-4f0e-b848-527866b5e19b",
   "metadata": {
    "tags": []
   },
   "outputs": [],
   "source": []
  },
  {
   "cell_type": "markdown",
   "id": "5c3fe2cc-a41d-4638-a1ba-66e177835567",
   "metadata": {},
   "source": [
    "**Note:** Older versions of altair use `single_selection` and `multi_selection` instead of selection point. Also `add_params` used to be `add_selection`."
   ]
  },
  {
   "cell_type": "code",
   "execution_count": null,
   "id": "23cf104f-491a-4c1a-ac67-71c2fc5d0612",
   "metadata": {
    "tags": []
   },
   "outputs": [],
   "source": []
  },
  {
   "cell_type": "markdown",
   "id": "e7369cb5-7f47-4b8d-b62c-3dc73a68fc25",
   "metadata": {},
   "source": [
    "there is a documemnted \"bug\" with the interval selection and the tooltip. There are work arounds but for this lecture we won't focus on them. "
   ]
  },
  {
   "cell_type": "code",
   "execution_count": null,
   "id": "10f4124d-18d1-455d-af7a-4b7b32c8ea36",
   "metadata": {
    "tags": []
   },
   "outputs": [],
   "source": []
  },
  {
   "cell_type": "markdown",
   "id": "6a9ed3e8-f359-450b-a62a-77dc29ee25eb",
   "metadata": {},
   "source": [
    "### Ok, but what is selection useful for?"
   ]
  },
  {
   "cell_type": "markdown",
   "id": "e49e7cad-251a-4c06-9154-ade7729ce26f",
   "metadata": {},
   "source": [
    "Manually choosing points to highlight them does not seem very useful, let's look at an example of how to select with a query.\n",
    "\n",
    "We will query on artist name, to see where the songs of your favourite artists lie on the plot. "
   ]
  },
  {
   "cell_type": "code",
   "execution_count": 6,
   "id": "9fc0ae54-9262-45f5-983b-86b9fdac428f",
   "metadata": {
    "tags": []
   },
   "outputs": [],
   "source": [
    "# Let's make a list of artists \n"
   ]
  },
  {
   "cell_type": "code",
   "execution_count": null,
   "id": "87b4a4c1-5545-462a-9085-27dd08045689",
   "metadata": {
    "tags": []
   },
   "outputs": [],
   "source": []
  },
  {
   "cell_type": "code",
   "execution_count": null,
   "id": "7c9f196e-613d-48f5-8cd3-92f1244294d9",
   "metadata": {
    "tags": []
   },
   "outputs": [],
   "source": []
  },
  {
   "cell_type": "markdown",
   "id": "99e1e91e-a457-4795-a97f-c4848efeb256",
   "metadata": {},
   "source": [
    "### Brushing and linking with same plots\n",
    "\n",
    "The power of selection really comes into play with brushing and linking, when you can interact with one chart and see the selection you made reflected in other charts displaying the same data in different ways. We explore this with *interval linking*.\n",
    "\n",
    "Let's implement it by looking at the `energy` column.\n",
    "\n",
    "+ **Energy** *(float)*:  a measure from 0.0 to 1.0 and represents a perceptual measure of intensity and activity. Typically, energetic tracks feel fast, loud, and noisy. For example, death metal has high energy, while a Bach prelude scores low on the scale. Perceptual features contributing to this attribute include dynamic range, perceived loudness, timbre, onset rate, and general entropy."
   ]
  },
  {
   "cell_type": "code",
   "execution_count": 7,
   "id": "0219542b-039c-4457-8bed-928b596a6c1e",
   "metadata": {
    "tags": []
   },
   "outputs": [],
   "source": [
    "# now we can make two charts from the base\n"
   ]
  },
  {
   "cell_type": "markdown",
   "id": "e3c68bae-f844-4af2-a82c-3cbe3a247a5a",
   "metadata": {},
   "source": [
    "Notice that since the base is the plot is the same, we only have to bind the brush once. \n",
    "\n",
    "Before we move to working with a different base plot (i.e. linking between different types of plots) let's introduce a filter to our visualization. We can do this by chaining the `transform_filter` to our chart. "
   ]
  },
  {
   "cell_type": "code",
   "execution_count": null,
   "id": "ee4ba513-5c4b-4246-b29d-0d681992f046",
   "metadata": {
    "tags": []
   },
   "outputs": [],
   "source": []
  },
  {
   "cell_type": "markdown",
   "id": "cc8e6e2c-e1d4-467b-bcc6-89978d2af4d8",
   "metadata": {},
   "source": [
    "### Brushing and linking with multiple plots"
   ]
  },
  {
   "cell_type": "code",
   "execution_count": 8,
   "id": "c45717b4-ec51-4bcc-a559-5bcc621ca920",
   "metadata": {
    "tags": []
   },
   "outputs": [],
   "source": [
    "\n",
    "\n",
    "# we add the selction interval to the bars\n",
    "\n",
    "\n",
    "# but filter on the scatter \n"
   ]
  },
  {
   "cell_type": "code",
   "execution_count": null,
   "id": "e26dcf98-24e9-4ba9-85b2-66caca9d0a27",
   "metadata": {
    "tags": []
   },
   "outputs": [],
   "source": []
  },
  {
   "cell_type": "code",
   "execution_count": null,
   "id": "2fc02a87-f300-4759-8d8e-f7fb51da2828",
   "metadata": {},
   "outputs": [],
   "source": []
  }
 ],
 "metadata": {
  "kernelspec": {
   "display_name": "Python 3 (ipykernel)",
   "language": "python",
   "name": "python3"
  },
  "language_info": {
   "codemirror_mode": {
    "name": "ipython",
    "version": 3
   },
   "file_extension": ".py",
   "mimetype": "text/x-python",
   "name": "python",
   "nbconvert_exporter": "python",
   "pygments_lexer": "ipython3",
   "version": "3.9.18"
  }
 },
 "nbformat": 4,
 "nbformat_minor": 5
}
